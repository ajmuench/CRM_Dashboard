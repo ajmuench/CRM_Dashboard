{
 "cells": [
  {
   "cell_type": "code",
   "execution_count": 163,
   "id": "20da00e2-37cc-41bb-9b6b-b07b138a3800",
   "metadata": {},
   "outputs": [],
   "source": [
    "import numpy as np\n",
    "import pandas as pd\n",
    "from datetime import datetime, timedelta\n",
    "from sklearn.preprocessing import StandardScaler\n",
    "from sklearn.preprocessing import MinMaxScaler"
   ]
  },
  {
   "cell_type": "markdown",
   "id": "abc32c60-0048-47d1-9255-6e103cd37a86",
   "metadata": {},
   "source": [
    "## Data Preprocessing"
   ]
  },
  {
   "cell_type": "code",
   "execution_count": 66,
   "id": "fec1c1c9-a3ee-430e-964e-a8e5efc0216e",
   "metadata": {},
   "outputs": [],
   "source": [
    "# Load Retail Dataset\n",
    "retail = pd.read_csv(\"Retail_2010_2011.csv\")"
   ]
  },
  {
   "cell_type": "code",
   "execution_count": 67,
   "id": "379a7174-deac-4597-9d10-ac8152fe3b93",
   "metadata": {},
   "outputs": [
    {
     "data": {
      "text/plain": [
       "Invoice             0\n",
       "StockCode           0\n",
       "Description      1454\n",
       "Quantity            0\n",
       "InvoiceDate         0\n",
       "Price               0\n",
       "Customer ID    135080\n",
       "Country             0\n",
       "dtype: int64"
      ]
     },
     "execution_count": 67,
     "metadata": {},
     "output_type": "execute_result"
    }
   ],
   "source": [
    "# Check Dataset for Null Values\n",
    "retail.isnull().sum()"
   ]
  },
  {
   "cell_type": "code",
   "execution_count": 68,
   "id": "683c1028-ca3c-4bc0-92ce-a8d9457b6655",
   "metadata": {},
   "outputs": [],
   "source": [
    "# Remove rows where Customer ID is Null\n",
    "retail= retail.dropna(subset=['Customer ID']).reset_index(drop=True)"
   ]
  },
  {
   "cell_type": "code",
   "execution_count": 69,
   "id": "b9eb343d-d1f2-4dc3-9e6a-271818b729b1",
   "metadata": {},
   "outputs": [
    {
     "data": {
      "text/plain": [
       "Invoice        0\n",
       "StockCode      0\n",
       "Description    0\n",
       "Quantity       0\n",
       "InvoiceDate    0\n",
       "Price          0\n",
       "Customer ID    0\n",
       "Country        0\n",
       "dtype: int64"
      ]
     },
     "execution_count": 69,
     "metadata": {},
     "output_type": "execute_result"
    }
   ],
   "source": [
    "# Check Dataset for Null Values\n",
    "retail.isnull().sum()"
   ]
  },
  {
   "cell_type": "code",
   "execution_count": 70,
   "id": "7ed95040-12f7-4dad-bafb-b808dcdfdb3e",
   "metadata": {},
   "outputs": [],
   "source": [
    "# exclude cancelled orders\n",
    "retail = retail[~retail[\"Invoice\"].str.contains(\"C\", na=False)]"
   ]
  },
  {
   "cell_type": "code",
   "execution_count": 71,
   "id": "f98e57ce-0950-4419-8394-457241c238f7",
   "metadata": {},
   "outputs": [],
   "source": [
    "#  exclude invoices where nothing was ordered \n",
    "retail = retail[retail[\"Quantity\"] > 0]"
   ]
  },
  {
   "cell_type": "code",
   "execution_count": 76,
   "id": "01ba6ee1-15aa-45ea-8440-b776ae135dbd",
   "metadata": {},
   "outputs": [],
   "source": [
    "# Outlier Work\n",
    "def outlier_thresholds(dataframe, variable):\n",
    "    Q1 = dataframe[variable].quantile(0.25)\n",
    "    Q3 = dataframe[variable].quantile(0.75)\n",
    "    IQR = Q3 - Q1\n",
    "    lower_bound = Q1 - 1.5 * IQR\n",
    "    upper_bound = Q3 + 1.5 * IQR\n",
    "    return lower_bound, upper_bound\n",
    "\n",
    "\n",
    "def replace_with_thresholds(dataframe, variable):\n",
    "    low_limit, up_limit = outlier_thresholds(dataframe, variable)\n",
    "    dataframe.loc[(dataframe[variable] > up_limit), variable] = up_limit"
   ]
  },
  {
   "cell_type": "code",
   "execution_count": 77,
   "id": "d3f1e6e1-5255-4951-a0c3-5db1f496ae3e",
   "metadata": {},
   "outputs": [],
   "source": [
    "# Replace outliers wioth extreme bounds\n",
    "replace_with_thresholds(retail,\"Quantity\")\n",
    "replace_with_thresholds(retail,\"Price\")"
   ]
  },
  {
   "cell_type": "code",
   "execution_count": 78,
   "id": "bbdabecc-ea21-408d-88ea-dec2b34c0398",
   "metadata": {},
   "outputs": [],
   "source": [
    "# Create Total Price Column\n",
    "retail[\"TotalPrice\"] = retail[\"Quantity\"] * retail[\"Price\"]"
   ]
  },
  {
   "cell_type": "code",
   "execution_count": 79,
   "id": "3c9187a8-b4fd-4bf6-a12b-b01c21ea87f0",
   "metadata": {},
   "outputs": [],
   "source": [
    "# Convert InvoiceDate into date time\n",
    "retail['InvoiceDate'] = pd.to_datetime(retail['InvoiceDate'], format=\"%m/%d/%Y %H:%M\")"
   ]
  },
  {
   "cell_type": "markdown",
   "id": "8afb40e9-c856-4090-9bfd-53dd6e5343da",
   "metadata": {},
   "source": [
    "## Create Recency, Frequency, Monetary and RFM Values"
   ]
  },
  {
   "cell_type": "code",
   "execution_count": 80,
   "id": "5c03de19-264c-4c32-9728-212c4c263d16",
   "metadata": {},
   "outputs": [],
   "source": [
    "def rfm_metrics(data):\n",
    "    today_date = data[\"InvoiceDate\"].max()\n",
    "    date_with_offset = today_date + timedelta(days=2)\n",
    "    rfm = data.groupby('Customer ID').agg({'InvoiceDate': lambda date: (date_with_offset - date.max()).days,\n",
    "                                                'Invoice': lambda num: num.nunique(),\n",
    "                                                \"TotalPrice\": lambda price: price.sum()})\n",
    "\n",
    "    rfm.columns = ['recency', 'frequency', \"monetary\"]\n",
    "\n",
    "    rfm = rfm[(rfm['monetary'] > 0)]\n",
    "    return rfm\n"
   ]
  },
  {
   "cell_type": "code",
   "execution_count": 81,
   "id": "5a34e58d-f28e-4d42-84b0-738fdd9756de",
   "metadata": {},
   "outputs": [],
   "source": [
    "rfm= rfm_metrics(retail)"
   ]
  },
  {
   "cell_type": "code",
   "execution_count": 159,
   "id": "0463c8e8-2e53-4bc5-9309-579a0385d07f",
   "metadata": {},
   "outputs": [],
   "source": [
    "# RFM score\n",
    "rfm[\"recency_score\"] = pd.qcut(rfm['recency'], 5, labels=[5, 4, 3, 2, 1])\n",
    "rfm[\"frequency_score\"] = pd.qcut(rfm[\"frequency\"].rank(method=\"first\"), 5, labels=[1, 2, 3, 4, 5])\n",
    "\n",
    "\n",
    "\n",
    "# segment naming\n",
    "rfm['rfm_segment'] = rfm['recency_score'].astype(str) + rfm['frequency_score'].astype(str)\n",
    "\n",
    "seg_map = {\n",
    "        r'[1-2][1-2]': 'hibernating',\n",
    "        r'[1-2][3-4]': 'at_risk',\n",
    "        r'[1-2]5': 'cant_loose',\n",
    "        r'3[1-2]': 'about_to_sleep',\n",
    "        r'33': 'need_attention',\n",
    "        r'[3-4][4-5]': 'loyal_customers',\n",
    "        r'41': 'promising',\n",
    "        r'51': 'new_customers',\n",
    "        r'[4-5][2-3]': 'potential_loyalists',\n",
    "        r'5[4-5]': 'champions'\n",
    "}\n",
    "\n",
    "rfm['rfm_segment'] = rfm['rfm_segment'].replace(seg_map, regex=True)\n",
    "rfm = rfm[[\"recency\", \"frequency\", \"monetary\", \"rfm_segment\"]]"
   ]
  },
  {
   "cell_type": "markdown",
   "id": "600593fd-a0ad-4706-89bd-0c6e79b6ad52",
   "metadata": {},
   "source": [
    "## Calculating CLTV Score"
   ]
  },
  {
   "cell_type": "code",
   "execution_count": 164,
   "id": "69b5c105-32bf-42f2-9c47-493ec16fc687",
   "metadata": {},
   "outputs": [],
   "source": [
    "def create_cltv_calculated(dataframe):\n",
    "    # avg_order_value\n",
    "    dataframe['avg_order_value'] = dataframe['monetary'] / dataframe['frequency']\n",
    "\n",
    "    # purchase_frequency\n",
    "    dataframe[\"purchase_frequency\"] = dataframe['frequency'] / dataframe.shape[0]\n",
    "\n",
    "    # repeat rate & churn rate\n",
    "    repeat_rate = dataframe[dataframe.frequency > 1].shape[0] / dataframe.shape[0]\n",
    "    churn_rate = 1 - repeat_rate\n",
    "\n",
    "    # profit_margin\n",
    "    dataframe['profit_margin'] = dataframe['monetary'] * 0.05\n",
    "    \n",
    "    # Customer Value\n",
    "    dataframe['cv'] = (dataframe['avg_order_value'] * dataframe[\"purchase_frequency\"])\n",
    "\n",
    "    # Customer Lifetime Value\n",
    "    dataframe['cltv'] = (dataframe['cv'] / churn_rate) * dataframe['profit_margin']\n",
    "\n",
    "    # minmaxscaler\n",
    "    scaler = MinMaxScaler(feature_range=(1, 100))\n",
    "    scaler.fit(dataframe[[\"cltv\"]])\n",
    "    dataframe[\"cltv_calculated\"] = scaler.transform(dataframe[[\"cltv\"]])\n",
    "\n",
    "    dataframe[\"cltv_calculated_segment\"] = pd.qcut(dataframe[\"cltv_calculated\"], 3, labels=[\"C\", \"B\", \"A\"])\n",
    "\n",
    "    dataframe = dataframe[[\"recency\", \"frequency\", \"monetary\", \"rfm_segment\",\n",
    "                           \"cltv_calculated\", \"cltv_calculated_segment\"]]\n",
    "    \n",
    "    return dataframe"
   ]
  },
  {
   "cell_type": "code",
   "execution_count": 166,
   "id": "818450b9-e99e-4fa8-94bc-c2ec387218c9",
   "metadata": {},
   "outputs": [],
   "source": [
    "rfm_cltv = create_cltv_calculated(rfm)"
   ]
  },
  {
   "cell_type": "code",
   "execution_count": 167,
   "id": "879b8b85-4add-4395-8af0-ae1a56c11e48",
   "metadata": {},
   "outputs": [
    {
     "data": {
      "text/html": [
       "<div>\n",
       "<style scoped>\n",
       "    .dataframe tbody tr th:only-of-type {\n",
       "        vertical-align: middle;\n",
       "    }\n",
       "\n",
       "    .dataframe tbody tr th {\n",
       "        vertical-align: top;\n",
       "    }\n",
       "\n",
       "    .dataframe thead th {\n",
       "        text-align: right;\n",
       "    }\n",
       "</style>\n",
       "<table border=\"1\" class=\"dataframe\">\n",
       "  <thead>\n",
       "    <tr style=\"text-align: right;\">\n",
       "      <th></th>\n",
       "      <th>recency</th>\n",
       "      <th>frequency</th>\n",
       "      <th>monetary</th>\n",
       "      <th>rfm_segment</th>\n",
       "      <th>cltv_calculated</th>\n",
       "      <th>cltv_calculated_segment</th>\n",
       "    </tr>\n",
       "    <tr>\n",
       "      <th>Customer ID</th>\n",
       "      <th></th>\n",
       "      <th></th>\n",
       "      <th></th>\n",
       "      <th></th>\n",
       "      <th></th>\n",
       "      <th></th>\n",
       "    </tr>\n",
       "  </thead>\n",
       "  <tbody>\n",
       "    <tr>\n",
       "      <th>12346.0</th>\n",
       "      <td>327</td>\n",
       "      <td>1</td>\n",
       "      <td>28.08</td>\n",
       "      <td>hibernating</td>\n",
       "      <td>1.000006</td>\n",
       "      <td>C</td>\n",
       "    </tr>\n",
       "    <tr>\n",
       "      <th>12347.0</th>\n",
       "      <td>3</td>\n",
       "      <td>7</td>\n",
       "      <td>3877.44</td>\n",
       "      <td>champions</td>\n",
       "      <td>1.115128</td>\n",
       "      <td>A</td>\n",
       "    </tr>\n",
       "    <tr>\n",
       "      <th>12348.0</th>\n",
       "      <td>76</td>\n",
       "      <td>4</td>\n",
       "      <td>557.57</td>\n",
       "      <td>at_risk</td>\n",
       "      <td>1.002381</td>\n",
       "      <td>B</td>\n",
       "    </tr>\n",
       "    <tr>\n",
       "      <th>12349.0</th>\n",
       "      <td>20</td>\n",
       "      <td>1</td>\n",
       "      <td>1336.65</td>\n",
       "      <td>promising</td>\n",
       "      <td>1.013681</td>\n",
       "      <td>A</td>\n",
       "    </tr>\n",
       "    <tr>\n",
       "      <th>12350.0</th>\n",
       "      <td>311</td>\n",
       "      <td>1</td>\n",
       "      <td>301.90</td>\n",
       "      <td>hibernating</td>\n",
       "      <td>1.000698</td>\n",
       "      <td>C</td>\n",
       "    </tr>\n",
       "    <tr>\n",
       "      <th>...</th>\n",
       "      <td>...</td>\n",
       "      <td>...</td>\n",
       "      <td>...</td>\n",
       "      <td>...</td>\n",
       "      <td>...</td>\n",
       "      <td>...</td>\n",
       "    </tr>\n",
       "    <tr>\n",
       "      <th>18280.0</th>\n",
       "      <td>279</td>\n",
       "      <td>1</td>\n",
       "      <td>174.50</td>\n",
       "      <td>hibernating</td>\n",
       "      <td>1.000233</td>\n",
       "      <td>C</td>\n",
       "    </tr>\n",
       "    <tr>\n",
       "      <th>18281.0</th>\n",
       "      <td>182</td>\n",
       "      <td>1</td>\n",
       "      <td>61.92</td>\n",
       "      <td>hibernating</td>\n",
       "      <td>1.000029</td>\n",
       "      <td>C</td>\n",
       "    </tr>\n",
       "    <tr>\n",
       "      <th>18282.0</th>\n",
       "      <td>9</td>\n",
       "      <td>2</td>\n",
       "      <td>150.96</td>\n",
       "      <td>potential_loyalists</td>\n",
       "      <td>1.000174</td>\n",
       "      <td>C</td>\n",
       "    </tr>\n",
       "    <tr>\n",
       "      <th>18283.0</th>\n",
       "      <td>5</td>\n",
       "      <td>16</td>\n",
       "      <td>2081.98</td>\n",
       "      <td>champions</td>\n",
       "      <td>1.033193</td>\n",
       "      <td>A</td>\n",
       "    </tr>\n",
       "    <tr>\n",
       "      <th>18287.0</th>\n",
       "      <td>44</td>\n",
       "      <td>3</td>\n",
       "      <td>1520.23</td>\n",
       "      <td>loyal_customers</td>\n",
       "      <td>1.017697</td>\n",
       "      <td>A</td>\n",
       "    </tr>\n",
       "  </tbody>\n",
       "</table>\n",
       "<p>4338 rows × 6 columns</p>\n",
       "</div>"
      ],
      "text/plain": [
       "             recency  frequency  monetary          rfm_segment  \\\n",
       "Customer ID                                                      \n",
       "12346.0          327          1     28.08          hibernating   \n",
       "12347.0            3          7   3877.44            champions   \n",
       "12348.0           76          4    557.57              at_risk   \n",
       "12349.0           20          1   1336.65            promising   \n",
       "12350.0          311          1    301.90          hibernating   \n",
       "...              ...        ...       ...                  ...   \n",
       "18280.0          279          1    174.50          hibernating   \n",
       "18281.0          182          1     61.92          hibernating   \n",
       "18282.0            9          2    150.96  potential_loyalists   \n",
       "18283.0            5         16   2081.98            champions   \n",
       "18287.0           44          3   1520.23      loyal_customers   \n",
       "\n",
       "             cltv_calculated cltv_calculated_segment  \n",
       "Customer ID                                           \n",
       "12346.0             1.000006                       C  \n",
       "12347.0             1.115128                       A  \n",
       "12348.0             1.002381                       B  \n",
       "12349.0             1.013681                       A  \n",
       "12350.0             1.000698                       C  \n",
       "...                      ...                     ...  \n",
       "18280.0             1.000233                       C  \n",
       "18281.0             1.000029                       C  \n",
       "18282.0             1.000174                       C  \n",
       "18283.0             1.033193                       A  \n",
       "18287.0             1.017697                       A  \n",
       "\n",
       "[4338 rows x 6 columns]"
      ]
     },
     "execution_count": 167,
     "metadata": {},
     "output_type": "execute_result"
    }
   ],
   "source": [
    "rfm_cltv"
   ]
  },
  {
   "cell_type": "code",
   "execution_count": 169,
   "id": "3b08caec-48cc-431a-bd85-a6f11dddebe7",
   "metadata": {},
   "outputs": [],
   "source": [
    "# export to csv\n",
    "rfm.to_csv('rfm_cltv_2010_2011.csv', index=True)"
   ]
  },
  {
   "cell_type": "code",
   "execution_count": null,
   "id": "296df01f-acc0-414c-bb6d-d9a76ecc0a99",
   "metadata": {},
   "outputs": [],
   "source": []
  }
 ],
 "metadata": {
  "kernelspec": {
   "display_name": "Python 3 (ipykernel)",
   "language": "python",
   "name": "python3"
  },
  "language_info": {
   "codemirror_mode": {
    "name": "ipython",
    "version": 3
   },
   "file_extension": ".py",
   "mimetype": "text/x-python",
   "name": "python",
   "nbconvert_exporter": "python",
   "pygments_lexer": "ipython3",
   "version": "3.9.12"
  }
 },
 "nbformat": 4,
 "nbformat_minor": 5
}
